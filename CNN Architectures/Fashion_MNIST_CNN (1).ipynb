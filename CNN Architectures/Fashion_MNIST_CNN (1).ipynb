{
  "cells": [
    {
      "cell_type": "markdown",
      "source": [
        "1. torch: The main PyTorch library for building and training models.\n",
        "2. torch.nn: Contains modules and classes for building neural networks.\n",
        "3. ExponentialLR: A learning rate scheduler that decreases the learning rate by a specified factor.\n",
        "4. DataLoader: A utility to load datasets in batches for training/testing.\n",
        "5. datasets: Module to load standard datasets like FashionMNIST.\n",
        "transforms: Utilities for transforming data (not used in this implementation).\n",
        "6. ToTensor: A transform to convert images to PyTorch tensors."
      ],
      "metadata": {
        "id": "EcPE8Z2aZ28A"
      }
    },
    {
      "cell_type": "code",
      "execution_count": null,
      "metadata": {
        "id": "xwwlgKBkpo1l"
      },
      "outputs": [],
      "source": [
        "# Imports\n",
        "import torch\n",
        "import torch.nn as nn\n",
        "from torch.optim.lr_scheduler import ExponentialLR\n",
        "from torch.utils.data import DataLoader\n",
        "from torchvision import datasets\n",
        "from torchvision.transforms import transforms\n",
        "from torchvision.transforms import ToTensor\n",
        "\n",
        "#neural net imports\n",
        "import torch.nn as nn\n",
        "import torch.nn.functional as F\n",
        "import torch.optim as optim\n",
        "from torch.autograd import Variable"
      ]
    },
    {
      "cell_type": "markdown",
      "source": [
        "This code checks if a GPU is available and sets the device accordingly. The model will run on the GPU if available; otherwise, it will run on the CPU."
      ],
      "metadata": {
        "id": "76FYfPo8aUWj"
      }
    },
    {
      "cell_type": "code",
      "execution_count": null,
      "metadata": {
        "id": "gPtxtgtCp3kw",
        "colab": {
          "base_uri": "https://localhost:8080/"
        },
        "outputId": "2140bb5a-bad2-42ad-a0cf-2a0c55d68409"
      },
      "outputs": [
        {
          "output_type": "stream",
          "name": "stdout",
          "text": [
            "cpu\n"
          ]
        }
      ],
      "source": [
        "# Device\n",
        "device = torch.device(\"cuda\" if torch.cuda.is_available() else \"cpu\")\n",
        "print(device)"
      ]
    },
    {
      "cell_type": "markdown",
      "source": [
        "train_data and test_data: Loading the FashionMNIST dataset for training and testing. The dataset is transformed to tensors and downloaded if not already present."
      ],
      "metadata": {
        "id": "Ey-AMIhwadJ8"
      }
    },
    {
      "cell_type": "code",
      "source": [
        "train_data = datasets. FashionMNIST(\n",
        "    root = '../datasets',\n",
        "    train = True,\n",
        "    transform = ToTensor(),\n",
        "    download = True\n",
        ")\n",
        "test_data = datasets. FashionMNIST(\n",
        "    root = '../datasets',\n",
        "    train = False,\n",
        "    transform = ToTensor(),\n",
        "    download = True\n",
        ")"
      ],
      "metadata": {
        "id": "H_BjwyfJPOwm"
      },
      "execution_count": null,
      "outputs": []
    },
    {
      "cell_type": "code",
      "execution_count": null,
      "metadata": {
        "colab": {
          "base_uri": "https://localhost:8080/"
        },
        "id": "_zrF33uBCo4u",
        "outputId": "5d45bcb6-79f8-4ae6-b886-2484a7210a42"
      },
      "outputs": [
        {
          "output_type": "stream",
          "name": "stdout",
          "text": [
            "['T-shirt/top', 'Trouser', 'Pullover', 'Dress', 'Coat', 'Sandal', 'Shirt', 'Sneaker', 'Bag', 'Ankle boot']\n"
          ]
        }
      ],
      "source": [
        "print(train_data.classes)"
      ]
    },
    {
      "cell_type": "code",
      "execution_count": null,
      "metadata": {
        "colab": {
          "base_uri": "https://localhost:8080/"
        },
        "id": "km8b_O3eKOgH",
        "outputId": "aba9e90d-54d1-43c4-b9f7-fbbe90307493"
      },
      "outputs": [
        {
          "output_type": "stream",
          "name": "stdout",
          "text": [
            "Number of samples: 60000\n",
            "Image size: torch.Size([1, 28, 28])\n",
            "Number of classes: 10\n"
          ]
        }
      ],
      "source": [
        "print(f\"Number of samples: {len(train_data)}\")\n",
        "print(f\"Image size: {train_data[0][0].size()}\")\n",
        "print(f\"Number of classes: {len(train_data.classes)}\")"
      ]
    },
    {
      "cell_type": "code",
      "execution_count": null,
      "metadata": {
        "colab": {
          "base_uri": "https://localhost:8080/"
        },
        "id": "bPrK4_wKKeHQ",
        "outputId": "21895257-be5e-406c-8dc1-365c219ef4bb"
      },
      "outputs": [
        {
          "output_type": "execute_result",
          "data": {
            "text/plain": [
              "Dataset FashionMNIST\n",
              "    Number of datapoints: 60000\n",
              "    Root location: ../datasets\n",
              "    Split: Train\n",
              "    StandardTransform\n",
              "Transform: ToTensor()"
            ]
          },
          "metadata": {},
          "execution_count": 44
        }
      ],
      "source": [
        "train_data"
      ]
    },
    {
      "cell_type": "code",
      "execution_count": null,
      "metadata": {
        "colab": {
          "base_uri": "https://localhost:8080/"
        },
        "id": "0i6a8NhdKaLC",
        "outputId": "56430d0b-46b2-41e0-a202-90f19f038460"
      },
      "outputs": [
        {
          "output_type": "execute_result",
          "data": {
            "text/plain": [
              "torch.Size([60000, 28, 28])"
            ]
          },
          "metadata": {},
          "execution_count": 45
        }
      ],
      "source": [
        "train_data.data.shape"
      ]
    },
    {
      "cell_type": "code",
      "execution_count": null,
      "metadata": {
        "colab": {
          "base_uri": "https://localhost:8080/"
        },
        "id": "vYTEUVfPBr1y",
        "outputId": "8111925c-2b56-4de3-a1b7-5a4b8202b687"
      },
      "outputs": [
        {
          "output_type": "stream",
          "name": "stdout",
          "text": [
            "['T-shirt/top', 'Trouser', 'Pullover', 'Dress', 'Coat', 'Sandal', 'Shirt', 'Sneaker', 'Bag', 'Ankle boot']\n"
          ]
        }
      ],
      "source": [
        "print(test_data.classes)"
      ]
    },
    {
      "cell_type": "code",
      "execution_count": null,
      "metadata": {
        "colab": {
          "base_uri": "https://localhost:8080/"
        },
        "id": "RcwP3qVYKRJK",
        "outputId": "1306ae91-f176-4192-9792-9199e0f8e7d5"
      },
      "outputs": [
        {
          "output_type": "stream",
          "name": "stdout",
          "text": [
            "Number of samples: 10000\n",
            "Image size: torch.Size([1, 28, 28])\n",
            "Number of classes: 10\n"
          ]
        }
      ],
      "source": [
        "print(f\"Number of samples: {len(test_data)}\")\n",
        "print(f\"Image size: {test_data[0][0].size()}\")\n",
        "print(f\"Number of classes: {len(test_data.classes)}\")"
      ]
    },
    {
      "cell_type": "code",
      "execution_count": null,
      "metadata": {
        "colab": {
          "base_uri": "https://localhost:8080/"
        },
        "id": "OgQSf0MYKhv9",
        "outputId": "e77ad2f9-008b-4a3a-ef12-600e9aadc837"
      },
      "outputs": [
        {
          "output_type": "execute_result",
          "data": {
            "text/plain": [
              "Dataset FashionMNIST\n",
              "    Number of datapoints: 10000\n",
              "    Root location: ../datasets\n",
              "    Split: Test\n",
              "    StandardTransform\n",
              "Transform: ToTensor()"
            ]
          },
          "metadata": {},
          "execution_count": 48
        }
      ],
      "source": [
        "test_data"
      ]
    },
    {
      "cell_type": "code",
      "execution_count": null,
      "metadata": {
        "colab": {
          "base_uri": "https://localhost:8080/"
        },
        "id": "XDmlsAG-Kbjp",
        "outputId": "6c49702e-4a68-451a-f201-1dcb40f82500"
      },
      "outputs": [
        {
          "output_type": "execute_result",
          "data": {
            "text/plain": [
              "torch.Size([10000, 28, 28])"
            ]
          },
          "metadata": {},
          "execution_count": 49
        }
      ],
      "source": [
        "test_data.data.shape"
      ]
    },
    {
      "cell_type": "markdown",
      "source": [
        "loader: This dictionary holds the DataLoader objects for the training and testing datasets, which will provide batches of data during training/testing."
      ],
      "metadata": {
        "id": "4ScegZlnajP-"
      }
    },
    {
      "cell_type": "code",
      "execution_count": null,
      "metadata": {
        "id": "pGSwcxq2CnXx"
      },
      "outputs": [],
      "source": [
        "loader = {\n",
        "    'train' : DataLoader(train_data,\n",
        "                         batch_size = 50,\n",
        "                         shuffle = True),\n",
        "\n",
        "    'test' : DataLoader(test_data,\n",
        "                        batch_size = 50,\n",
        "                        shuffle  = True,\n",
        "                        num_workers = 1)\n",
        "\n",
        "}"
      ]
    },
    {
      "cell_type": "markdown",
      "source": [
        "CNN: This class defines the architecture of the convolutional neural network, including two convolutional layers, a dropout layer, and two fully connected layers. The forward method specifies how data passes through the network."
      ],
      "metadata": {
        "id": "RMcyYR2_apA-"
      }
    },
    {
      "cell_type": "code",
      "execution_count": null,
      "metadata": {
        "id": "OdQ8wfW7qLW7"
      },
      "outputs": [],
      "source": [
        "class CNN(nn.Module):\n",
        "\n",
        "    def __init__(self):\n",
        "        super(CNN, self).__init__()\n",
        "\n",
        "        self.conv1 = nn.Conv2d(1, 10, kernel_size=5)\n",
        "        self.conv2 = nn.Conv2d(10,20, kernel_size=5)\n",
        "        self.drop1 = nn.Dropout2d()\n",
        "        self.fc1 = nn.Linear(320,50)\n",
        "        self.fc2 = nn.Linear(50,10)\n",
        "\n",
        "    def forward(self, x):\n",
        "        x = F.relu(F.max_pool2d(self.conv1(x),2))\n",
        "        x = F.relu(F.max_pool2d(self.drop1(self.conv2(x)),2))\n",
        "        x = x.view(-1,320)\n",
        "        x = F.relu(self.fc1(x))\n",
        "        x = F.dropout(x, training= self.training)\n",
        "        x = self.fc2(x)\n",
        "\n",
        "        return F.softmax(x)"
      ]
    },
    {
      "cell_type": "code",
      "execution_count": null,
      "metadata": {
        "id": "uBbQr_3WLYL3"
      },
      "outputs": [],
      "source": [
        "import torch\n",
        "import torch.nn as nn\n",
        "import torch.nn.functional as F\n",
        "\n",
        "class NeuralNetowork(nn.Module):\n",
        "    def __init__(self):\n",
        "        super(NeuralNetowork, self).__init__()\n",
        "\n",
        "        # Convolutional layers\n",
        "        self.conv1 = nn.Conv2d(1, 10, kernel_size=5)\n",
        "        self.conv2 = nn.Conv2d(10, 20, kernel_size=5)\n",
        "        self.conv3 = nn.Conv2d(20, 40, kernel_size=3)\n",
        "        self.conv4 = nn.Conv2d(40, 80, kernel_size=1)\n",
        "\n",
        "        # Dropout layer\n",
        "        self.drop1 = nn.Dropout2d()\n",
        "\n",
        "        # Fully connected layers\n",
        "        self.fc1 = nn.Linear(80, 50)\n",
        "        self.fc2 = nn.Linear(50, 10)\n",
        "\n",
        "    def forward(self, x):\n",
        "        x = F.relu(F.max_pool2d(self.conv1(x), 2))\n",
        "        x = F.relu(F.max_pool2d(self.drop1(self.conv2(x)), 2))\n",
        "        x = F.relu(F.max_pool2d(self.conv3(x), 2))\n",
        "        x = F.relu(self.conv4(x))\n",
        "\n",
        "        x = x.view(-1, 80)  # Flatten size adjusted\n",
        "        x = F.relu(self.fc1(x))\n",
        "        x = F.dropout(x, training=self.training)\n",
        "        x = self.fc2(x)\n",
        "\n",
        "        return F.softmax(x, dim=1)\n"
      ]
    },
    {
      "cell_type": "markdown",
      "source": [
        "10 CLs, 10 MPLs, and 10 FCLs"
      ],
      "metadata": {
        "id": "Lg6pk3hQSqUj"
      }
    },
    {
      "cell_type": "code",
      "source": [
        "import torch\n",
        "import torch.nn as nn\n",
        "import torch.nn.functional as F\n",
        "\n",
        "class NeuralNetwork(nn.Module):\n",
        "    def __init__(self):\n",
        "        super(NeuralNetwork, self).__init__()\n",
        "\n",
        "        # Convolutional and pooling layers\n",
        "        self.conv1 = nn.Conv2d(1, 10, kernel_size=5)\n",
        "        self.conv2 = nn.Conv2d(10, 20, kernel_size=5)\n",
        "        self.conv3 = nn.Conv2d(20, 40, kernel_size=3)\n",
        "        self.conv4 = nn.Conv2d(40, 80, kernel_size=3)\n",
        "        self.conv5 = nn.Conv2d(80, 160, kernel_size=3)\n",
        "        self.conv6 = nn.Conv2d(160, 320, kernel_size=3)\n",
        "        self.conv7 = nn.Conv2d(320, 640, kernel_size=3)\n",
        "        self.conv8 = nn.Conv2d(640, 1280, kernel_size=3)\n",
        "        self.conv9 = nn.Conv2d(1280, 2560, kernel_size=3)\n",
        "        self.conv10 = nn.Conv2d(2560, 5120, kernel_size=3)\n",
        "\n",
        "        # Dropout layer\n",
        "        self.drop1 = nn.Dropout2d()\n",
        "\n",
        "        # Fully connected layers\n",
        "        self.fc1 = nn.Linear(5120, 1024)\n",
        "        self.fc2 = nn.Linear(1024, 512)\n",
        "        self.fc3 = nn.Linear(512, 256)\n",
        "        self.fc4 = nn.Linear(256, 128)\n",
        "        self.fc5 = nn.Linear(128, 64)\n",
        "        self.fc6 = nn.Linear(64, 32)\n",
        "        self.fc7 = nn.Linear(32, 16)\n",
        "        self.fc8 = nn.Linear(16, 8)\n",
        "        self.fc9 = nn.Linear(8, 4)\n",
        "        self.fc10 = nn.Linear(4, 10)\n",
        "\n",
        "    def forward(self, x):\n",
        "        # Pass through convolutional layers with pooling\n",
        "        x = F.relu(F.max_pool2d(self.conv1(x), 2))\n",
        "        x = F.relu(F.max_pool2d(self.conv2(x), 2))\n",
        "        x = F.relu(F.max_pool2d(self.drop1(self.conv3(x)), 2))\n",
        "        x = F.relu(F.max_pool2d(self.conv4(x), 2))\n",
        "        x = F.relu(F.max_pool2d(self.conv5(x), 2))\n",
        "        x = F.relu(F.max_pool2d(self.conv6(x), 2))\n",
        "        x = F.relu(F.max_pool2d(self.conv7(x), 2))\n",
        "        x = F.relu(F.max_pool2d(self.conv8(x), 2))\n",
        "        x = F.relu(F.max_pool2d(self.conv9(x), 2))\n",
        "        x = F.relu(F.max_pool2d(self.conv10(x), 2))\n",
        "\n",
        "        # Flatten the tensor\n",
        "        x = x.view(x.size(0), -1)\n",
        "\n",
        "        # Pass through fully connected layers\n",
        "        x = F.relu(self.fc1(x))\n",
        "        x = F.dropout(x, training=self.training)\n",
        "        x = F.relu(self.fc2(x))\n",
        "        x = F.relu(self.fc3(x))\n",
        "        x = F.relu(self.fc4(x))\n",
        "        x = F.relu(self.fc5(x))\n",
        "        x = F.relu(self.fc6(x))\n",
        "        x = F.relu(self.fc7(x))\n",
        "        x = F.relu(self.fc8(x))\n",
        "        x = F.relu(self.fc9(x))\n",
        "        x = self.fc10(x)\n",
        "\n",
        "        return F.softmax(x, dim=1)"
      ],
      "metadata": {
        "id": "T3FaMww8SwXk"
      },
      "execution_count": null,
      "outputs": []
    },
    {
      "cell_type": "markdown",
      "source": [
        "Here, the model is initialized and transferred to the selected device (GPU or CPU). A loss function (cross-entropy loss) and an optimizer (Adam) are defined. A learning rate scheduler is also initialized.\n"
      ],
      "metadata": {
        "id": "FNDfYmbAaysL"
      }
    },
    {
      "cell_type": "code",
      "source": [
        "device = torch.device(\"cuda\" if torch.cuda.is_available() else 'cpu')\n",
        "model = NeuralNetowork().to(device)\n",
        "criterion = nn.CrossEntropyLoss()\n",
        "optimizer = optim.Adam(model.parameters(), lr=0.001)\n",
        "scheduler = ExponentialLR(optimizer, gamma=0.9)\n",
        "loss_fn = nn.CrossEntropyLoss()"
      ],
      "metadata": {
        "id": "VW-43z_HQGZT"
      },
      "execution_count": null,
      "outputs": []
    },
    {
      "cell_type": "code",
      "execution_count": null,
      "metadata": {
        "id": "NY4XtdnDqPpq"
      },
      "outputs": [],
      "source": []
    },
    {
      "cell_type": "markdown",
      "source": [
        "**train:** This function trains the model for a specified epoch. It processes batches of training data, calculates the loss, performs backpropagation, and updates model parameters.\n",
        "\n",
        "**test:** This function evaluates the model on the test dataset, calculating the average loss and accuracy."
      ],
      "metadata": {
        "id": "f8LA_KLVa7UI"
      }
    },
    {
      "cell_type": "code",
      "execution_count": null,
      "metadata": {
        "id": "xiD4HSXY_UJV"
      },
      "outputs": [],
      "source": [
        "def train(epoch):\n",
        "    model.train()\n",
        "    for batch_idx, (data, target) in enumerate(loader['train']):\n",
        "        data, target = data.to(device), target.to(device)\n",
        "        optimizer.zero_grad()\n",
        "        output = model(data)\n",
        "        loss = loss_fn(output, target)\n",
        "        loss.backward()\n",
        "        optimizer.step()\n",
        "        if batch_idx %20 == 0:\n",
        "            print(f\"Train Epoch: {epoch} [{batch_idx * len(data)}/ {len(loader['train'].dataset)} ({100. * batch_idx/ len(loader['train']):.0f}%)]\\t{loss.item():.6f}\")\n",
        "\n",
        "def test():\n",
        "    model.eval()\n",
        "    test_loss = 0\n",
        "    correct = 0\n",
        "\n",
        "    with torch.no_grad():\n",
        "        for data, target in loader['test']:\n",
        "            data, target = data.to(device), target.to(device)\n",
        "            output = model(data)\n",
        "            test_loss += loss_fn(output, target).item()\n",
        "            pred = output.argmax(dim =1, keepdim = True)\n",
        "            correct += pred.eq(target.view_as(pred)).sum().item()\n",
        "\n",
        "    test_loss /= len(loader['test'].dataset)\n",
        "    print(f'\\nTest Set: Average loss: {test_loss:.4f}, Accuracy {correct}/{len(loader[\"test\"].dataset)} ({100 * correct / len(loader[\"test\"].dataset):.0f}%)\\n')"
      ]
    },
    {
      "cell_type": "markdown",
      "source": [
        "The code iterates over batches in the training dataset to print the number of images in each batch."
      ],
      "metadata": {
        "id": "TO1ULUKIbghA"
      }
    },
    {
      "cell_type": "code",
      "execution_count": null,
      "metadata": {
        "colab": {
          "base_uri": "https://localhost:8080/"
        },
        "id": "st2egFYlBixn",
        "outputId": "a41a47b5-6d75-4072-c7d4-784bbd5cccfe"
      },
      "outputs": [
        {
          "output_type": "stream",
          "name": "stdout",
          "text": [
            "Total number of batches: 1200\n",
            "Batch 1200/1200: Number of images = 50\n"
          ]
        }
      ],
      "source": [
        "total_batches = len(loader['train'])\n",
        "print(f\"Total number of batches: {total_batches}\")\n",
        "\n",
        "for batch_idx, (data, target) in enumerate(loader['train']):\n",
        "        data, target = data.to(device), target.to(device)\n",
        "\n",
        " # Print the number of images in the current batch\n",
        "batch_size = data.size(0)\n",
        "print(f\"Batch {batch_idx + 1}/{total_batches}: Number of images = {batch_size}\")"
      ]
    },
    {
      "cell_type": "markdown",
      "source": [
        "FashionMNIST dataset for 10 epochs, achieving 81% accuracy on the test set. The process involves data loading, model definition, training, and evaluation, demonstrating the fundamental steps in building and training neural networks with PyTorch."
      ],
      "metadata": {
        "id": "FLW_WA6Tb4ft"
      }
    },
    {
      "cell_type": "code",
      "source": [
        "for epoch in range(10):\n",
        "    train(epoch)\n",
        "    test()"
      ],
      "metadata": {
        "colab": {
          "base_uri": "https://localhost:8080/"
        },
        "id": "QFHudPRmR97R",
        "outputId": "a6c00c53-df14-41a6-e756-120c5eb3ab76"
      },
      "execution_count": null,
      "outputs": [
        {
          "output_type": "stream",
          "name": "stdout",
          "text": [
            "Train Epoch: 0 [0/ 60000 (0%)]\t2.303421\n",
            "Train Epoch: 0 [1000/ 60000 (2%)]\t2.300941\n",
            "Train Epoch: 0 [2000/ 60000 (3%)]\t2.300628\n",
            "Train Epoch: 0 [3000/ 60000 (5%)]\t2.222589\n",
            "Train Epoch: 0 [4000/ 60000 (7%)]\t2.019862\n",
            "Train Epoch: 0 [5000/ 60000 (8%)]\t2.090593\n",
            "Train Epoch: 0 [6000/ 60000 (10%)]\t2.139418\n",
            "Train Epoch: 0 [7000/ 60000 (12%)]\t2.100236\n",
            "Train Epoch: 0 [8000/ 60000 (13%)]\t1.946102\n",
            "Train Epoch: 0 [9000/ 60000 (15%)]\t2.013743\n",
            "Train Epoch: 0 [10000/ 60000 (17%)]\t1.943122\n",
            "Train Epoch: 0 [11000/ 60000 (18%)]\t1.973673\n",
            "Train Epoch: 0 [12000/ 60000 (20%)]\t1.973382\n",
            "Train Epoch: 0 [13000/ 60000 (22%)]\t1.867333\n",
            "Train Epoch: 0 [14000/ 60000 (23%)]\t1.863686\n",
            "Train Epoch: 0 [15000/ 60000 (25%)]\t1.979872\n",
            "Train Epoch: 0 [16000/ 60000 (27%)]\t1.850943\n",
            "Train Epoch: 0 [17000/ 60000 (28%)]\t1.963362\n",
            "Train Epoch: 0 [18000/ 60000 (30%)]\t1.880240\n",
            "Train Epoch: 0 [19000/ 60000 (32%)]\t1.917248\n",
            "Train Epoch: 0 [20000/ 60000 (33%)]\t1.922612\n",
            "Train Epoch: 0 [21000/ 60000 (35%)]\t1.981627\n",
            "Train Epoch: 0 [22000/ 60000 (37%)]\t1.845423\n",
            "Train Epoch: 0 [23000/ 60000 (38%)]\t1.878736\n",
            "Train Epoch: 0 [24000/ 60000 (40%)]\t1.887487\n",
            "Train Epoch: 0 [25000/ 60000 (42%)]\t1.909080\n",
            "Train Epoch: 0 [26000/ 60000 (43%)]\t1.731658\n",
            "Train Epoch: 0 [27000/ 60000 (45%)]\t1.819138\n",
            "Train Epoch: 0 [28000/ 60000 (47%)]\t1.793840\n",
            "Train Epoch: 0 [29000/ 60000 (48%)]\t1.824433\n",
            "Train Epoch: 0 [30000/ 60000 (50%)]\t1.828386\n",
            "Train Epoch: 0 [31000/ 60000 (52%)]\t1.871682\n",
            "Train Epoch: 0 [32000/ 60000 (53%)]\t1.848910\n",
            "Train Epoch: 0 [33000/ 60000 (55%)]\t1.739384\n",
            "Train Epoch: 0 [34000/ 60000 (57%)]\t1.756954\n",
            "Train Epoch: 0 [35000/ 60000 (58%)]\t1.774764\n",
            "Train Epoch: 0 [36000/ 60000 (60%)]\t1.792958\n",
            "Train Epoch: 0 [37000/ 60000 (62%)]\t1.748393\n",
            "Train Epoch: 0 [38000/ 60000 (63%)]\t1.863641\n",
            "Train Epoch: 0 [39000/ 60000 (65%)]\t1.748384\n",
            "Train Epoch: 0 [40000/ 60000 (67%)]\t1.803671\n",
            "Train Epoch: 0 [41000/ 60000 (68%)]\t1.787044\n",
            "Train Epoch: 0 [42000/ 60000 (70%)]\t1.752302\n",
            "Train Epoch: 0 [43000/ 60000 (72%)]\t1.729253\n",
            "Train Epoch: 0 [44000/ 60000 (73%)]\t1.803789\n",
            "Train Epoch: 0 [45000/ 60000 (75%)]\t1.921525\n",
            "Train Epoch: 0 [46000/ 60000 (77%)]\t1.753070\n",
            "Train Epoch: 0 [47000/ 60000 (78%)]\t1.754775\n",
            "Train Epoch: 0 [48000/ 60000 (80%)]\t1.891456\n",
            "Train Epoch: 0 [49000/ 60000 (82%)]\t1.731425\n",
            "Train Epoch: 0 [50000/ 60000 (83%)]\t1.809261\n",
            "Train Epoch: 0 [51000/ 60000 (85%)]\t1.793853\n",
            "Train Epoch: 0 [52000/ 60000 (87%)]\t1.747273\n",
            "Train Epoch: 0 [53000/ 60000 (88%)]\t1.780469\n",
            "Train Epoch: 0 [54000/ 60000 (90%)]\t1.879061\n",
            "Train Epoch: 0 [55000/ 60000 (92%)]\t1.823882\n",
            "Train Epoch: 0 [56000/ 60000 (93%)]\t1.683437\n",
            "Train Epoch: 0 [57000/ 60000 (95%)]\t1.802101\n",
            "Train Epoch: 0 [58000/ 60000 (97%)]\t1.686781\n",
            "Train Epoch: 0 [59000/ 60000 (98%)]\t1.765351\n",
            "\n",
            "Test Set: Average loss: 0.0348, Accuracy 7182/10000 (72%)\n",
            "\n",
            "Train Epoch: 1 [0/ 60000 (0%)]\t1.729518\n",
            "Train Epoch: 1 [1000/ 60000 (2%)]\t1.724868\n",
            "Train Epoch: 1 [2000/ 60000 (3%)]\t1.706731\n",
            "Train Epoch: 1 [3000/ 60000 (5%)]\t1.783837\n",
            "Train Epoch: 1 [4000/ 60000 (7%)]\t1.725031\n",
            "Train Epoch: 1 [5000/ 60000 (8%)]\t1.808833\n",
            "Train Epoch: 1 [6000/ 60000 (10%)]\t1.800204\n",
            "Train Epoch: 1 [7000/ 60000 (12%)]\t1.744454\n",
            "Train Epoch: 1 [8000/ 60000 (13%)]\t1.770389\n",
            "Train Epoch: 1 [9000/ 60000 (15%)]\t1.904370\n",
            "Train Epoch: 1 [10000/ 60000 (17%)]\t1.715498\n",
            "Train Epoch: 1 [11000/ 60000 (18%)]\t1.717665\n",
            "Train Epoch: 1 [12000/ 60000 (20%)]\t1.762766\n",
            "Train Epoch: 1 [13000/ 60000 (22%)]\t1.781606\n",
            "Train Epoch: 1 [14000/ 60000 (23%)]\t1.649198\n",
            "Train Epoch: 1 [15000/ 60000 (25%)]\t1.681208\n",
            "Train Epoch: 1 [16000/ 60000 (27%)]\t1.701478\n",
            "Train Epoch: 1 [17000/ 60000 (28%)]\t1.753981\n",
            "Train Epoch: 1 [18000/ 60000 (30%)]\t1.789115\n",
            "Train Epoch: 1 [19000/ 60000 (32%)]\t1.882736\n",
            "Train Epoch: 1 [20000/ 60000 (33%)]\t1.716931\n",
            "Train Epoch: 1 [21000/ 60000 (35%)]\t1.639884\n",
            "Train Epoch: 1 [22000/ 60000 (37%)]\t1.663595\n",
            "Train Epoch: 1 [23000/ 60000 (38%)]\t1.840749\n",
            "Train Epoch: 1 [24000/ 60000 (40%)]\t1.675377\n",
            "Train Epoch: 1 [25000/ 60000 (42%)]\t1.641012\n",
            "Train Epoch: 1 [26000/ 60000 (43%)]\t1.755415\n",
            "Train Epoch: 1 [27000/ 60000 (45%)]\t1.722858\n",
            "Train Epoch: 1 [28000/ 60000 (47%)]\t1.723717\n",
            "Train Epoch: 1 [29000/ 60000 (48%)]\t1.654101\n",
            "Train Epoch: 1 [30000/ 60000 (50%)]\t1.818146\n",
            "Train Epoch: 1 [31000/ 60000 (52%)]\t1.670341\n",
            "Train Epoch: 1 [32000/ 60000 (53%)]\t1.831933\n",
            "Train Epoch: 1 [33000/ 60000 (55%)]\t1.745306\n",
            "Train Epoch: 1 [34000/ 60000 (57%)]\t1.750658\n",
            "Train Epoch: 1 [35000/ 60000 (58%)]\t1.701668\n",
            "Train Epoch: 1 [36000/ 60000 (60%)]\t1.716961\n",
            "Train Epoch: 1 [37000/ 60000 (62%)]\t1.769674\n",
            "Train Epoch: 1 [38000/ 60000 (63%)]\t1.746156\n",
            "Train Epoch: 1 [39000/ 60000 (65%)]\t1.713913\n",
            "Train Epoch: 1 [40000/ 60000 (67%)]\t1.653927\n",
            "Train Epoch: 1 [41000/ 60000 (68%)]\t1.796991\n",
            "Train Epoch: 1 [42000/ 60000 (70%)]\t1.860402\n",
            "Train Epoch: 1 [43000/ 60000 (72%)]\t1.686545\n",
            "Train Epoch: 1 [44000/ 60000 (73%)]\t1.610435\n",
            "Train Epoch: 1 [45000/ 60000 (75%)]\t1.695455\n",
            "Train Epoch: 1 [46000/ 60000 (77%)]\t1.733517\n",
            "Train Epoch: 1 [47000/ 60000 (78%)]\t1.738609\n",
            "Train Epoch: 1 [48000/ 60000 (80%)]\t1.727646\n",
            "Train Epoch: 1 [49000/ 60000 (82%)]\t1.723784\n",
            "Train Epoch: 1 [50000/ 60000 (83%)]\t1.695911\n",
            "Train Epoch: 1 [51000/ 60000 (85%)]\t1.800256\n",
            "Train Epoch: 1 [52000/ 60000 (87%)]\t1.713578\n",
            "Train Epoch: 1 [53000/ 60000 (88%)]\t1.615451\n",
            "Train Epoch: 1 [54000/ 60000 (90%)]\t1.712470\n",
            "Train Epoch: 1 [55000/ 60000 (92%)]\t1.682103\n",
            "Train Epoch: 1 [56000/ 60000 (93%)]\t1.741956\n",
            "Train Epoch: 1 [57000/ 60000 (95%)]\t1.684559\n",
            "Train Epoch: 1 [58000/ 60000 (97%)]\t1.692644\n",
            "Train Epoch: 1 [59000/ 60000 (98%)]\t1.775544\n",
            "\n",
            "Test Set: Average loss: 0.0344, Accuracy 7401/10000 (74%)\n",
            "\n",
            "Train Epoch: 2 [0/ 60000 (0%)]\t1.853778\n",
            "Train Epoch: 2 [1000/ 60000 (2%)]\t1.747406\n",
            "Train Epoch: 2 [2000/ 60000 (3%)]\t1.862793\n",
            "Train Epoch: 2 [3000/ 60000 (5%)]\t1.684783\n",
            "Train Epoch: 2 [4000/ 60000 (7%)]\t1.782158\n",
            "Train Epoch: 2 [5000/ 60000 (8%)]\t1.735060\n",
            "Train Epoch: 2 [6000/ 60000 (10%)]\t1.707657\n",
            "Train Epoch: 2 [7000/ 60000 (12%)]\t1.710831\n",
            "Train Epoch: 2 [8000/ 60000 (13%)]\t1.694271\n",
            "Train Epoch: 2 [9000/ 60000 (15%)]\t1.770946\n",
            "Train Epoch: 2 [10000/ 60000 (17%)]\t1.737082\n",
            "Train Epoch: 2 [11000/ 60000 (18%)]\t1.694810\n",
            "Train Epoch: 2 [12000/ 60000 (20%)]\t1.578053\n",
            "Train Epoch: 2 [13000/ 60000 (22%)]\t1.734728\n",
            "Train Epoch: 2 [14000/ 60000 (23%)]\t1.649594\n",
            "Train Epoch: 2 [15000/ 60000 (25%)]\t1.820073\n",
            "Train Epoch: 2 [16000/ 60000 (27%)]\t1.651577\n",
            "Train Epoch: 2 [17000/ 60000 (28%)]\t1.699630\n",
            "Train Epoch: 2 [18000/ 60000 (30%)]\t1.724756\n",
            "Train Epoch: 2 [19000/ 60000 (32%)]\t1.724539\n",
            "Train Epoch: 2 [20000/ 60000 (33%)]\t1.755387\n",
            "Train Epoch: 2 [21000/ 60000 (35%)]\t1.712498\n",
            "Train Epoch: 2 [22000/ 60000 (37%)]\t1.718299\n",
            "Train Epoch: 2 [23000/ 60000 (38%)]\t1.789026\n",
            "Train Epoch: 2 [24000/ 60000 (40%)]\t1.834864\n",
            "Train Epoch: 2 [25000/ 60000 (42%)]\t1.591143\n",
            "Train Epoch: 2 [26000/ 60000 (43%)]\t1.816379\n",
            "Train Epoch: 2 [27000/ 60000 (45%)]\t1.700513\n",
            "Train Epoch: 2 [28000/ 60000 (47%)]\t1.731191\n",
            "Train Epoch: 2 [29000/ 60000 (48%)]\t1.679234\n",
            "Train Epoch: 2 [30000/ 60000 (50%)]\t1.764476\n",
            "Train Epoch: 2 [31000/ 60000 (52%)]\t1.721890\n",
            "Train Epoch: 2 [32000/ 60000 (53%)]\t1.731320\n",
            "Train Epoch: 2 [33000/ 60000 (55%)]\t1.789832\n",
            "Train Epoch: 2 [34000/ 60000 (57%)]\t1.645525\n",
            "Train Epoch: 2 [35000/ 60000 (58%)]\t1.632913\n",
            "Train Epoch: 2 [36000/ 60000 (60%)]\t1.642487\n",
            "Train Epoch: 2 [37000/ 60000 (62%)]\t1.732437\n",
            "Train Epoch: 2 [38000/ 60000 (63%)]\t1.749425\n",
            "Train Epoch: 2 [39000/ 60000 (65%)]\t1.705270\n",
            "Train Epoch: 2 [40000/ 60000 (67%)]\t1.749011\n",
            "Train Epoch: 2 [41000/ 60000 (68%)]\t1.765080\n",
            "Train Epoch: 2 [42000/ 60000 (70%)]\t1.747967\n",
            "Train Epoch: 2 [43000/ 60000 (72%)]\t1.733215\n",
            "Train Epoch: 2 [44000/ 60000 (73%)]\t1.595420\n",
            "Train Epoch: 2 [45000/ 60000 (75%)]\t1.706199\n",
            "Train Epoch: 2 [46000/ 60000 (77%)]\t1.818735\n",
            "Train Epoch: 2 [47000/ 60000 (78%)]\t1.678349\n",
            "Train Epoch: 2 [48000/ 60000 (80%)]\t1.805138\n",
            "Train Epoch: 2 [49000/ 60000 (82%)]\t1.680252\n",
            "Train Epoch: 2 [50000/ 60000 (83%)]\t1.661004\n",
            "Train Epoch: 2 [51000/ 60000 (85%)]\t1.787928\n",
            "Train Epoch: 2 [52000/ 60000 (87%)]\t1.738493\n",
            "Train Epoch: 2 [53000/ 60000 (88%)]\t1.737349\n",
            "Train Epoch: 2 [54000/ 60000 (90%)]\t1.734140\n",
            "Train Epoch: 2 [55000/ 60000 (92%)]\t1.678789\n",
            "Train Epoch: 2 [56000/ 60000 (93%)]\t1.616502\n",
            "Train Epoch: 2 [57000/ 60000 (95%)]\t1.762941\n",
            "Train Epoch: 2 [58000/ 60000 (97%)]\t1.659749\n",
            "Train Epoch: 2 [59000/ 60000 (98%)]\t1.723870\n",
            "\n",
            "Test Set: Average loss: 0.0340, Accuracy 7593/10000 (76%)\n",
            "\n",
            "Train Epoch: 3 [0/ 60000 (0%)]\t1.590225\n",
            "Train Epoch: 3 [1000/ 60000 (2%)]\t1.793070\n",
            "Train Epoch: 3 [2000/ 60000 (3%)]\t1.736883\n",
            "Train Epoch: 3 [3000/ 60000 (5%)]\t1.703201\n",
            "Train Epoch: 3 [4000/ 60000 (7%)]\t1.684346\n",
            "Train Epoch: 3 [5000/ 60000 (8%)]\t1.769987\n",
            "Train Epoch: 3 [6000/ 60000 (10%)]\t1.678029\n",
            "Train Epoch: 3 [7000/ 60000 (12%)]\t1.696894\n",
            "Train Epoch: 3 [8000/ 60000 (13%)]\t1.677006\n",
            "Train Epoch: 3 [9000/ 60000 (15%)]\t1.780095\n",
            "Train Epoch: 3 [10000/ 60000 (17%)]\t1.709064\n",
            "Train Epoch: 3 [11000/ 60000 (18%)]\t1.758847\n",
            "Train Epoch: 3 [12000/ 60000 (20%)]\t1.660106\n",
            "Train Epoch: 3 [13000/ 60000 (22%)]\t1.673399\n",
            "Train Epoch: 3 [14000/ 60000 (23%)]\t1.783140\n",
            "Train Epoch: 3 [15000/ 60000 (25%)]\t1.611093\n",
            "Train Epoch: 3 [16000/ 60000 (27%)]\t1.716710\n",
            "Train Epoch: 3 [17000/ 60000 (28%)]\t1.664868\n",
            "Train Epoch: 3 [18000/ 60000 (30%)]\t1.777936\n",
            "Train Epoch: 3 [19000/ 60000 (32%)]\t1.616089\n",
            "Train Epoch: 3 [20000/ 60000 (33%)]\t1.801407\n",
            "Train Epoch: 3 [21000/ 60000 (35%)]\t1.678620\n",
            "Train Epoch: 3 [22000/ 60000 (37%)]\t1.747081\n",
            "Train Epoch: 3 [23000/ 60000 (38%)]\t1.748225\n",
            "Train Epoch: 3 [24000/ 60000 (40%)]\t1.711270\n",
            "Train Epoch: 3 [25000/ 60000 (42%)]\t1.711839\n",
            "Train Epoch: 3 [26000/ 60000 (43%)]\t1.761158\n",
            "Train Epoch: 3 [27000/ 60000 (45%)]\t1.779408\n",
            "Train Epoch: 3 [28000/ 60000 (47%)]\t1.734799\n",
            "Train Epoch: 3 [29000/ 60000 (48%)]\t1.723092\n",
            "Train Epoch: 3 [30000/ 60000 (50%)]\t1.685894\n",
            "Train Epoch: 3 [31000/ 60000 (52%)]\t1.761093\n",
            "Train Epoch: 3 [32000/ 60000 (53%)]\t1.714152\n",
            "Train Epoch: 3 [33000/ 60000 (55%)]\t1.733481\n",
            "Train Epoch: 3 [34000/ 60000 (57%)]\t1.810250\n",
            "Train Epoch: 3 [35000/ 60000 (58%)]\t1.818386\n",
            "Train Epoch: 3 [36000/ 60000 (60%)]\t1.624418\n",
            "Train Epoch: 3 [37000/ 60000 (62%)]\t1.734026\n",
            "Train Epoch: 3 [38000/ 60000 (63%)]\t1.797619\n",
            "Train Epoch: 3 [39000/ 60000 (65%)]\t1.738572\n",
            "Train Epoch: 3 [40000/ 60000 (67%)]\t1.647413\n",
            "Train Epoch: 3 [41000/ 60000 (68%)]\t1.554146\n",
            "Train Epoch: 3 [42000/ 60000 (70%)]\t1.729054\n",
            "Train Epoch: 3 [43000/ 60000 (72%)]\t1.668478\n",
            "Train Epoch: 3 [44000/ 60000 (73%)]\t1.732480\n",
            "Train Epoch: 3 [45000/ 60000 (75%)]\t1.662069\n",
            "Train Epoch: 3 [46000/ 60000 (77%)]\t1.897308\n",
            "Train Epoch: 3 [47000/ 60000 (78%)]\t1.819125\n",
            "Train Epoch: 3 [48000/ 60000 (80%)]\t1.626429\n",
            "Train Epoch: 3 [49000/ 60000 (82%)]\t1.838688\n",
            "Train Epoch: 3 [50000/ 60000 (83%)]\t1.743480\n",
            "Train Epoch: 3 [51000/ 60000 (85%)]\t1.655357\n",
            "Train Epoch: 3 [52000/ 60000 (87%)]\t1.669398\n",
            "Train Epoch: 3 [53000/ 60000 (88%)]\t1.773317\n",
            "Train Epoch: 3 [54000/ 60000 (90%)]\t1.654699\n",
            "Train Epoch: 3 [55000/ 60000 (92%)]\t1.593248\n",
            "Train Epoch: 3 [56000/ 60000 (93%)]\t1.652241\n",
            "Train Epoch: 3 [57000/ 60000 (95%)]\t1.717077\n",
            "Train Epoch: 3 [58000/ 60000 (97%)]\t1.857532\n",
            "Train Epoch: 3 [59000/ 60000 (98%)]\t1.605440\n",
            "\n",
            "Test Set: Average loss: 0.0337, Accuracy 7751/10000 (78%)\n",
            "\n",
            "Train Epoch: 4 [0/ 60000 (0%)]\t1.714780\n",
            "Train Epoch: 4 [1000/ 60000 (2%)]\t1.717346\n",
            "Train Epoch: 4 [2000/ 60000 (3%)]\t1.868017\n",
            "Train Epoch: 4 [3000/ 60000 (5%)]\t1.730056\n",
            "Train Epoch: 4 [4000/ 60000 (7%)]\t1.754350\n",
            "Train Epoch: 4 [5000/ 60000 (8%)]\t1.732542\n",
            "Train Epoch: 4 [6000/ 60000 (10%)]\t1.689325\n",
            "Train Epoch: 4 [7000/ 60000 (12%)]\t1.624625\n",
            "Train Epoch: 4 [8000/ 60000 (13%)]\t1.764546\n",
            "Train Epoch: 4 [9000/ 60000 (15%)]\t1.695700\n",
            "Train Epoch: 4 [10000/ 60000 (17%)]\t1.789725\n",
            "Train Epoch: 4 [11000/ 60000 (18%)]\t1.739007\n",
            "Train Epoch: 4 [12000/ 60000 (20%)]\t1.715291\n",
            "Train Epoch: 4 [13000/ 60000 (22%)]\t1.699503\n",
            "Train Epoch: 4 [14000/ 60000 (23%)]\t1.684943\n",
            "Train Epoch: 4 [15000/ 60000 (25%)]\t1.695870\n",
            "Train Epoch: 4 [16000/ 60000 (27%)]\t1.661055\n",
            "Train Epoch: 4 [17000/ 60000 (28%)]\t1.661955\n",
            "Train Epoch: 4 [18000/ 60000 (30%)]\t1.596950\n",
            "Train Epoch: 4 [19000/ 60000 (32%)]\t1.743593\n",
            "Train Epoch: 4 [20000/ 60000 (33%)]\t1.725057\n",
            "Train Epoch: 4 [21000/ 60000 (35%)]\t1.706496\n",
            "Train Epoch: 4 [22000/ 60000 (37%)]\t1.697268\n",
            "Train Epoch: 4 [23000/ 60000 (38%)]\t1.654625\n",
            "Train Epoch: 4 [24000/ 60000 (40%)]\t1.702649\n",
            "Train Epoch: 4 [25000/ 60000 (42%)]\t1.728215\n",
            "Train Epoch: 4 [26000/ 60000 (43%)]\t1.662297\n",
            "Train Epoch: 4 [27000/ 60000 (45%)]\t1.684569\n",
            "Train Epoch: 4 [28000/ 60000 (47%)]\t1.740364\n",
            "Train Epoch: 4 [29000/ 60000 (48%)]\t1.662863\n",
            "Train Epoch: 4 [30000/ 60000 (50%)]\t1.725973\n",
            "Train Epoch: 4 [31000/ 60000 (52%)]\t1.584111\n",
            "Train Epoch: 4 [32000/ 60000 (53%)]\t1.820716\n",
            "Train Epoch: 4 [33000/ 60000 (55%)]\t1.791850\n",
            "Train Epoch: 4 [34000/ 60000 (57%)]\t1.617970\n",
            "Train Epoch: 4 [35000/ 60000 (58%)]\t1.692933\n",
            "Train Epoch: 4 [36000/ 60000 (60%)]\t1.686189\n",
            "Train Epoch: 4 [37000/ 60000 (62%)]\t1.719892\n",
            "Train Epoch: 4 [38000/ 60000 (63%)]\t1.656100\n",
            "Train Epoch: 4 [39000/ 60000 (65%)]\t1.691989\n",
            "Train Epoch: 4 [40000/ 60000 (67%)]\t1.739139\n",
            "Train Epoch: 4 [41000/ 60000 (68%)]\t1.571519\n",
            "Train Epoch: 4 [42000/ 60000 (70%)]\t1.635089\n",
            "Train Epoch: 4 [43000/ 60000 (72%)]\t1.750132\n",
            "Train Epoch: 4 [44000/ 60000 (73%)]\t1.618049\n",
            "Train Epoch: 4 [45000/ 60000 (75%)]\t1.708485\n",
            "Train Epoch: 4 [46000/ 60000 (77%)]\t1.670538\n",
            "Train Epoch: 4 [47000/ 60000 (78%)]\t1.714463\n",
            "Train Epoch: 4 [48000/ 60000 (80%)]\t1.629974\n",
            "Train Epoch: 4 [49000/ 60000 (82%)]\t1.702941\n",
            "Train Epoch: 4 [50000/ 60000 (83%)]\t1.643108\n",
            "Train Epoch: 4 [51000/ 60000 (85%)]\t1.708785\n",
            "Train Epoch: 4 [52000/ 60000 (87%)]\t1.631393\n",
            "Train Epoch: 4 [53000/ 60000 (88%)]\t1.623316\n",
            "Train Epoch: 4 [54000/ 60000 (90%)]\t1.641089\n",
            "Train Epoch: 4 [55000/ 60000 (92%)]\t1.652220\n",
            "Train Epoch: 4 [56000/ 60000 (93%)]\t1.754864\n",
            "Train Epoch: 4 [57000/ 60000 (95%)]\t1.639893\n",
            "Train Epoch: 4 [58000/ 60000 (97%)]\t1.758844\n",
            "Train Epoch: 4 [59000/ 60000 (98%)]\t1.695314\n",
            "\n",
            "Test Set: Average loss: 0.0335, Accuracy 7855/10000 (79%)\n",
            "\n",
            "Train Epoch: 5 [0/ 60000 (0%)]\t1.667746\n",
            "Train Epoch: 5 [1000/ 60000 (2%)]\t1.721205\n",
            "Train Epoch: 5 [2000/ 60000 (3%)]\t1.782855\n",
            "Train Epoch: 5 [3000/ 60000 (5%)]\t1.674514\n",
            "Train Epoch: 5 [4000/ 60000 (7%)]\t1.712998\n",
            "Train Epoch: 5 [5000/ 60000 (8%)]\t1.684138\n",
            "Train Epoch: 5 [6000/ 60000 (10%)]\t1.692492\n",
            "Train Epoch: 5 [7000/ 60000 (12%)]\t1.668615\n",
            "Train Epoch: 5 [8000/ 60000 (13%)]\t1.715358\n",
            "Train Epoch: 5 [9000/ 60000 (15%)]\t1.720623\n",
            "Train Epoch: 5 [10000/ 60000 (17%)]\t1.685346\n",
            "Train Epoch: 5 [11000/ 60000 (18%)]\t1.633478\n",
            "Train Epoch: 5 [12000/ 60000 (20%)]\t1.732110\n",
            "Train Epoch: 5 [13000/ 60000 (22%)]\t1.633960\n",
            "Train Epoch: 5 [14000/ 60000 (23%)]\t1.681067\n",
            "Train Epoch: 5 [15000/ 60000 (25%)]\t1.605262\n",
            "Train Epoch: 5 [16000/ 60000 (27%)]\t1.683422\n",
            "Train Epoch: 5 [17000/ 60000 (28%)]\t1.667818\n",
            "Train Epoch: 5 [18000/ 60000 (30%)]\t1.690828\n",
            "Train Epoch: 5 [19000/ 60000 (32%)]\t1.753491\n",
            "Train Epoch: 5 [20000/ 60000 (33%)]\t1.774650\n",
            "Train Epoch: 5 [21000/ 60000 (35%)]\t1.719015\n",
            "Train Epoch: 5 [22000/ 60000 (37%)]\t1.710372\n",
            "Train Epoch: 5 [23000/ 60000 (38%)]\t1.677209\n",
            "Train Epoch: 5 [24000/ 60000 (40%)]\t1.647326\n",
            "Train Epoch: 5 [25000/ 60000 (42%)]\t1.693379\n",
            "Train Epoch: 5 [26000/ 60000 (43%)]\t1.733216\n",
            "Train Epoch: 5 [27000/ 60000 (45%)]\t1.638844\n",
            "Train Epoch: 5 [28000/ 60000 (47%)]\t1.656925\n",
            "Train Epoch: 5 [29000/ 60000 (48%)]\t1.646856\n",
            "Train Epoch: 5 [30000/ 60000 (50%)]\t1.695912\n",
            "Train Epoch: 5 [31000/ 60000 (52%)]\t1.679852\n",
            "Train Epoch: 5 [32000/ 60000 (53%)]\t1.629638\n",
            "Train Epoch: 5 [33000/ 60000 (55%)]\t1.651715\n",
            "Train Epoch: 5 [34000/ 60000 (57%)]\t1.725547\n",
            "Train Epoch: 5 [35000/ 60000 (58%)]\t1.608251\n",
            "Train Epoch: 5 [36000/ 60000 (60%)]\t1.607171\n",
            "Train Epoch: 5 [37000/ 60000 (62%)]\t1.755476\n",
            "Train Epoch: 5 [38000/ 60000 (63%)]\t1.787690\n",
            "Train Epoch: 5 [39000/ 60000 (65%)]\t1.606493\n",
            "Train Epoch: 5 [40000/ 60000 (67%)]\t1.729110\n",
            "Train Epoch: 5 [41000/ 60000 (68%)]\t1.654037\n",
            "Train Epoch: 5 [42000/ 60000 (70%)]\t1.693817\n",
            "Train Epoch: 5 [43000/ 60000 (72%)]\t1.637957\n",
            "Train Epoch: 5 [44000/ 60000 (73%)]\t1.626540\n",
            "Train Epoch: 5 [45000/ 60000 (75%)]\t1.745141\n",
            "Train Epoch: 5 [46000/ 60000 (77%)]\t1.609443\n",
            "Train Epoch: 5 [47000/ 60000 (78%)]\t1.700320\n",
            "Train Epoch: 5 [48000/ 60000 (80%)]\t1.596072\n",
            "Train Epoch: 5 [49000/ 60000 (82%)]\t1.643809\n",
            "Train Epoch: 5 [50000/ 60000 (83%)]\t1.715566\n",
            "Train Epoch: 5 [51000/ 60000 (85%)]\t1.653208\n",
            "Train Epoch: 5 [52000/ 60000 (87%)]\t1.673864\n",
            "Train Epoch: 5 [53000/ 60000 (88%)]\t1.610511\n",
            "Train Epoch: 5 [54000/ 60000 (90%)]\t1.589031\n",
            "Train Epoch: 5 [55000/ 60000 (92%)]\t1.688604\n",
            "Train Epoch: 5 [56000/ 60000 (93%)]\t1.733552\n",
            "Train Epoch: 5 [57000/ 60000 (95%)]\t1.740606\n",
            "Train Epoch: 5 [58000/ 60000 (97%)]\t1.736769\n",
            "Train Epoch: 5 [59000/ 60000 (98%)]\t1.692736\n",
            "\n",
            "Test Set: Average loss: 0.0334, Accuracy 7898/10000 (79%)\n",
            "\n",
            "Train Epoch: 6 [0/ 60000 (0%)]\t1.652550\n",
            "Train Epoch: 6 [1000/ 60000 (2%)]\t1.716711\n",
            "Train Epoch: 6 [2000/ 60000 (3%)]\t1.705806\n",
            "Train Epoch: 6 [3000/ 60000 (5%)]\t1.788885\n",
            "Train Epoch: 6 [4000/ 60000 (7%)]\t1.733782\n",
            "Train Epoch: 6 [5000/ 60000 (8%)]\t1.617530\n",
            "Train Epoch: 6 [6000/ 60000 (10%)]\t1.692851\n",
            "Train Epoch: 6 [7000/ 60000 (12%)]\t1.706493\n",
            "Train Epoch: 6 [8000/ 60000 (13%)]\t1.606120\n",
            "Train Epoch: 6 [9000/ 60000 (15%)]\t1.622523\n",
            "Train Epoch: 6 [10000/ 60000 (17%)]\t1.697258\n",
            "Train Epoch: 6 [11000/ 60000 (18%)]\t1.715814\n",
            "Train Epoch: 6 [12000/ 60000 (20%)]\t1.752109\n",
            "Train Epoch: 6 [13000/ 60000 (22%)]\t1.697537\n",
            "Train Epoch: 6 [14000/ 60000 (23%)]\t1.640484\n",
            "Train Epoch: 6 [15000/ 60000 (25%)]\t1.589899\n",
            "Train Epoch: 6 [16000/ 60000 (27%)]\t1.684178\n",
            "Train Epoch: 6 [17000/ 60000 (28%)]\t1.661576\n",
            "Train Epoch: 6 [18000/ 60000 (30%)]\t1.600694\n",
            "Train Epoch: 6 [19000/ 60000 (32%)]\t1.747858\n",
            "Train Epoch: 6 [20000/ 60000 (33%)]\t1.741107\n",
            "Train Epoch: 6 [21000/ 60000 (35%)]\t1.705173\n",
            "Train Epoch: 6 [22000/ 60000 (37%)]\t1.708416\n",
            "Train Epoch: 6 [23000/ 60000 (38%)]\t1.577786\n",
            "Train Epoch: 6 [24000/ 60000 (40%)]\t1.694443\n",
            "Train Epoch: 6 [25000/ 60000 (42%)]\t1.766831\n",
            "Train Epoch: 6 [26000/ 60000 (43%)]\t1.676714\n",
            "Train Epoch: 6 [27000/ 60000 (45%)]\t1.655968\n",
            "Train Epoch: 6 [28000/ 60000 (47%)]\t1.722264\n",
            "Train Epoch: 6 [29000/ 60000 (48%)]\t1.665072\n",
            "Train Epoch: 6 [30000/ 60000 (50%)]\t1.669306\n",
            "Train Epoch: 6 [31000/ 60000 (52%)]\t1.615786\n",
            "Train Epoch: 6 [32000/ 60000 (53%)]\t1.593217\n",
            "Train Epoch: 6 [33000/ 60000 (55%)]\t1.704463\n",
            "Train Epoch: 6 [34000/ 60000 (57%)]\t1.763420\n",
            "Train Epoch: 6 [35000/ 60000 (58%)]\t1.632345\n",
            "Train Epoch: 6 [36000/ 60000 (60%)]\t1.677953\n",
            "Train Epoch: 6 [37000/ 60000 (62%)]\t1.757180\n",
            "Train Epoch: 6 [38000/ 60000 (63%)]\t1.598327\n",
            "Train Epoch: 6 [39000/ 60000 (65%)]\t1.581340\n",
            "Train Epoch: 6 [40000/ 60000 (67%)]\t1.697562\n",
            "Train Epoch: 6 [41000/ 60000 (68%)]\t1.658417\n",
            "Train Epoch: 6 [42000/ 60000 (70%)]\t1.657729\n",
            "Train Epoch: 6 [43000/ 60000 (72%)]\t1.662483\n",
            "Train Epoch: 6 [44000/ 60000 (73%)]\t1.663845\n",
            "Train Epoch: 6 [45000/ 60000 (75%)]\t1.716244\n",
            "Train Epoch: 6 [46000/ 60000 (77%)]\t1.655199\n",
            "Train Epoch: 6 [47000/ 60000 (78%)]\t1.749248\n",
            "Train Epoch: 6 [48000/ 60000 (80%)]\t1.737931\n",
            "Train Epoch: 6 [49000/ 60000 (82%)]\t1.659074\n",
            "Train Epoch: 6 [50000/ 60000 (83%)]\t1.705561\n",
            "Train Epoch: 6 [51000/ 60000 (85%)]\t1.620618\n",
            "Train Epoch: 6 [52000/ 60000 (87%)]\t1.676981\n",
            "Train Epoch: 6 [53000/ 60000 (88%)]\t1.653274\n",
            "Train Epoch: 6 [54000/ 60000 (90%)]\t1.671916\n",
            "Train Epoch: 6 [55000/ 60000 (92%)]\t1.714000\n",
            "Train Epoch: 6 [56000/ 60000 (93%)]\t1.655386\n",
            "Train Epoch: 6 [57000/ 60000 (95%)]\t1.566756\n",
            "Train Epoch: 6 [58000/ 60000 (97%)]\t1.649325\n",
            "Train Epoch: 6 [59000/ 60000 (98%)]\t1.668734\n",
            "\n",
            "Test Set: Average loss: 0.0332, Accuracy 8005/10000 (80%)\n",
            "\n",
            "Train Epoch: 7 [0/ 60000 (0%)]\t1.720675\n",
            "Train Epoch: 7 [1000/ 60000 (2%)]\t1.602811\n",
            "Train Epoch: 7 [2000/ 60000 (3%)]\t1.669060\n",
            "Train Epoch: 7 [3000/ 60000 (5%)]\t1.663848\n",
            "Train Epoch: 7 [4000/ 60000 (7%)]\t1.699923\n",
            "Train Epoch: 7 [5000/ 60000 (8%)]\t1.699728\n",
            "Train Epoch: 7 [6000/ 60000 (10%)]\t1.725164\n",
            "Train Epoch: 7 [7000/ 60000 (12%)]\t1.647814\n",
            "Train Epoch: 7 [8000/ 60000 (13%)]\t1.648144\n",
            "Train Epoch: 7 [9000/ 60000 (15%)]\t1.651786\n",
            "Train Epoch: 7 [10000/ 60000 (17%)]\t1.676950\n",
            "Train Epoch: 7 [11000/ 60000 (18%)]\t1.725701\n",
            "Train Epoch: 7 [12000/ 60000 (20%)]\t1.700110\n",
            "Train Epoch: 7 [13000/ 60000 (22%)]\t1.722899\n",
            "Train Epoch: 7 [14000/ 60000 (23%)]\t1.661936\n",
            "Train Epoch: 7 [15000/ 60000 (25%)]\t1.703773\n",
            "Train Epoch: 7 [16000/ 60000 (27%)]\t1.727633\n",
            "Train Epoch: 7 [17000/ 60000 (28%)]\t1.812911\n",
            "Train Epoch: 7 [18000/ 60000 (30%)]\t1.662862\n",
            "Train Epoch: 7 [19000/ 60000 (32%)]\t1.729890\n",
            "Train Epoch: 7 [20000/ 60000 (33%)]\t1.703336\n",
            "Train Epoch: 7 [21000/ 60000 (35%)]\t1.674911\n",
            "Train Epoch: 7 [22000/ 60000 (37%)]\t1.641601\n",
            "Train Epoch: 7 [23000/ 60000 (38%)]\t1.740168\n",
            "Train Epoch: 7 [24000/ 60000 (40%)]\t1.729499\n",
            "Train Epoch: 7 [25000/ 60000 (42%)]\t1.661504\n",
            "Train Epoch: 7 [26000/ 60000 (43%)]\t1.597935\n",
            "Train Epoch: 7 [27000/ 60000 (45%)]\t1.605621\n",
            "Train Epoch: 7 [28000/ 60000 (47%)]\t1.605788\n",
            "Train Epoch: 7 [29000/ 60000 (48%)]\t1.776179\n",
            "Train Epoch: 7 [30000/ 60000 (50%)]\t1.739810\n",
            "Train Epoch: 7 [31000/ 60000 (52%)]\t1.686864\n",
            "Train Epoch: 7 [32000/ 60000 (53%)]\t1.746599\n",
            "Train Epoch: 7 [33000/ 60000 (55%)]\t1.703545\n",
            "Train Epoch: 7 [34000/ 60000 (57%)]\t1.623077\n",
            "Train Epoch: 7 [35000/ 60000 (58%)]\t1.678076\n",
            "Train Epoch: 7 [36000/ 60000 (60%)]\t1.684520\n",
            "Train Epoch: 7 [37000/ 60000 (62%)]\t1.586157\n",
            "Train Epoch: 7 [38000/ 60000 (63%)]\t1.830738\n",
            "Train Epoch: 7 [39000/ 60000 (65%)]\t1.629967\n",
            "Train Epoch: 7 [40000/ 60000 (67%)]\t1.642327\n",
            "Train Epoch: 7 [41000/ 60000 (68%)]\t1.626462\n",
            "Train Epoch: 7 [42000/ 60000 (70%)]\t1.598748\n",
            "Train Epoch: 7 [43000/ 60000 (72%)]\t1.686667\n",
            "Train Epoch: 7 [44000/ 60000 (73%)]\t1.721514\n",
            "Train Epoch: 7 [45000/ 60000 (75%)]\t1.702533\n",
            "Train Epoch: 7 [46000/ 60000 (77%)]\t1.730550\n",
            "Train Epoch: 7 [47000/ 60000 (78%)]\t1.696038\n",
            "Train Epoch: 7 [48000/ 60000 (80%)]\t1.586173\n",
            "Train Epoch: 7 [49000/ 60000 (82%)]\t1.659724\n",
            "Train Epoch: 7 [50000/ 60000 (83%)]\t1.718083\n",
            "Train Epoch: 7 [51000/ 60000 (85%)]\t1.676046\n",
            "Train Epoch: 7 [52000/ 60000 (87%)]\t1.584850\n",
            "Train Epoch: 7 [53000/ 60000 (88%)]\t1.638154\n",
            "Train Epoch: 7 [54000/ 60000 (90%)]\t1.745655\n",
            "Train Epoch: 7 [55000/ 60000 (92%)]\t1.597819\n",
            "Train Epoch: 7 [56000/ 60000 (93%)]\t1.683589\n",
            "Train Epoch: 7 [57000/ 60000 (95%)]\t1.736379\n",
            "Train Epoch: 7 [58000/ 60000 (97%)]\t1.700481\n",
            "Train Epoch: 7 [59000/ 60000 (98%)]\t1.699668\n",
            "\n",
            "Test Set: Average loss: 0.0334, Accuracy 7915/10000 (79%)\n",
            "\n",
            "Train Epoch: 8 [0/ 60000 (0%)]\t1.745825\n",
            "Train Epoch: 8 [1000/ 60000 (2%)]\t1.614574\n",
            "Train Epoch: 8 [2000/ 60000 (3%)]\t1.766836\n",
            "Train Epoch: 8 [3000/ 60000 (5%)]\t1.716092\n",
            "Train Epoch: 8 [4000/ 60000 (7%)]\t1.694004\n",
            "Train Epoch: 8 [5000/ 60000 (8%)]\t1.568346\n",
            "Train Epoch: 8 [6000/ 60000 (10%)]\t1.621932\n",
            "Train Epoch: 8 [7000/ 60000 (12%)]\t1.762414\n",
            "Train Epoch: 8 [8000/ 60000 (13%)]\t1.622552\n",
            "Train Epoch: 8 [9000/ 60000 (15%)]\t1.753766\n",
            "Train Epoch: 8 [10000/ 60000 (17%)]\t1.667013\n",
            "Train Epoch: 8 [11000/ 60000 (18%)]\t1.667974\n",
            "Train Epoch: 8 [12000/ 60000 (20%)]\t1.600590\n",
            "Train Epoch: 8 [13000/ 60000 (22%)]\t1.653775\n",
            "Train Epoch: 8 [14000/ 60000 (23%)]\t1.662213\n",
            "Train Epoch: 8 [15000/ 60000 (25%)]\t1.685314\n",
            "Train Epoch: 8 [16000/ 60000 (27%)]\t1.738775\n",
            "Train Epoch: 8 [17000/ 60000 (28%)]\t1.662392\n",
            "Train Epoch: 8 [18000/ 60000 (30%)]\t1.759851\n",
            "Train Epoch: 8 [19000/ 60000 (32%)]\t1.766650\n",
            "Train Epoch: 8 [20000/ 60000 (33%)]\t1.655798\n",
            "Train Epoch: 8 [21000/ 60000 (35%)]\t1.586755\n",
            "Train Epoch: 8 [22000/ 60000 (37%)]\t1.629079\n",
            "Train Epoch: 8 [23000/ 60000 (38%)]\t1.671866\n",
            "Train Epoch: 8 [24000/ 60000 (40%)]\t1.706751\n",
            "Train Epoch: 8 [25000/ 60000 (42%)]\t1.747437\n",
            "Train Epoch: 8 [26000/ 60000 (43%)]\t1.757396\n",
            "Train Epoch: 8 [27000/ 60000 (45%)]\t1.726543\n",
            "Train Epoch: 8 [28000/ 60000 (47%)]\t1.691582\n",
            "Train Epoch: 8 [29000/ 60000 (48%)]\t1.704485\n",
            "Train Epoch: 8 [30000/ 60000 (50%)]\t1.677303\n",
            "Train Epoch: 8 [31000/ 60000 (52%)]\t1.760434\n",
            "Train Epoch: 8 [32000/ 60000 (53%)]\t1.658726\n",
            "Train Epoch: 8 [33000/ 60000 (55%)]\t1.651957\n",
            "Train Epoch: 8 [34000/ 60000 (57%)]\t1.730906\n",
            "Train Epoch: 8 [35000/ 60000 (58%)]\t1.596220\n",
            "Train Epoch: 8 [36000/ 60000 (60%)]\t1.709378\n",
            "Train Epoch: 8 [37000/ 60000 (62%)]\t1.677908\n",
            "Train Epoch: 8 [38000/ 60000 (63%)]\t1.662460\n",
            "Train Epoch: 8 [39000/ 60000 (65%)]\t1.731006\n",
            "Train Epoch: 8 [40000/ 60000 (67%)]\t1.640173\n",
            "Train Epoch: 8 [41000/ 60000 (68%)]\t1.758278\n",
            "Train Epoch: 8 [42000/ 60000 (70%)]\t1.715136\n",
            "Train Epoch: 8 [43000/ 60000 (72%)]\t1.642903\n",
            "Train Epoch: 8 [44000/ 60000 (73%)]\t1.604247\n",
            "Train Epoch: 8 [45000/ 60000 (75%)]\t1.600323\n",
            "Train Epoch: 8 [46000/ 60000 (77%)]\t1.660596\n",
            "Train Epoch: 8 [47000/ 60000 (78%)]\t1.760414\n",
            "Train Epoch: 8 [48000/ 60000 (80%)]\t1.717815\n",
            "Train Epoch: 8 [49000/ 60000 (82%)]\t1.661836\n",
            "Train Epoch: 8 [50000/ 60000 (83%)]\t1.649402\n",
            "Train Epoch: 8 [51000/ 60000 (85%)]\t1.605414\n",
            "Train Epoch: 8 [52000/ 60000 (87%)]\t1.661008\n",
            "Train Epoch: 8 [53000/ 60000 (88%)]\t1.726687\n",
            "Train Epoch: 8 [54000/ 60000 (90%)]\t1.634819\n",
            "Train Epoch: 8 [55000/ 60000 (92%)]\t1.660524\n",
            "Train Epoch: 8 [56000/ 60000 (93%)]\t1.719296\n",
            "Train Epoch: 8 [57000/ 60000 (95%)]\t1.645225\n",
            "Train Epoch: 8 [58000/ 60000 (97%)]\t1.621987\n",
            "Train Epoch: 8 [59000/ 60000 (98%)]\t1.663709\n",
            "\n",
            "Test Set: Average loss: 0.0334, Accuracy 7893/10000 (79%)\n",
            "\n",
            "Train Epoch: 9 [0/ 60000 (0%)]\t1.657324\n",
            "Train Epoch: 9 [1000/ 60000 (2%)]\t1.579521\n",
            "Train Epoch: 9 [2000/ 60000 (3%)]\t1.741202\n",
            "Train Epoch: 9 [3000/ 60000 (5%)]\t1.650274\n",
            "Train Epoch: 9 [4000/ 60000 (7%)]\t1.557763\n",
            "Train Epoch: 9 [5000/ 60000 (8%)]\t1.735807\n",
            "Train Epoch: 9 [6000/ 60000 (10%)]\t1.694496\n",
            "Train Epoch: 9 [7000/ 60000 (12%)]\t1.616502\n",
            "Train Epoch: 9 [8000/ 60000 (13%)]\t1.631375\n",
            "Train Epoch: 9 [9000/ 60000 (15%)]\t1.764660\n",
            "Train Epoch: 9 [10000/ 60000 (17%)]\t1.645949\n",
            "Train Epoch: 9 [11000/ 60000 (18%)]\t1.725293\n",
            "Train Epoch: 9 [12000/ 60000 (20%)]\t1.643087\n",
            "Train Epoch: 9 [13000/ 60000 (22%)]\t1.554961\n",
            "Train Epoch: 9 [14000/ 60000 (23%)]\t1.641733\n",
            "Train Epoch: 9 [15000/ 60000 (25%)]\t1.651444\n",
            "Train Epoch: 9 [16000/ 60000 (27%)]\t1.648429\n",
            "Train Epoch: 9 [17000/ 60000 (28%)]\t1.660106\n",
            "Train Epoch: 9 [18000/ 60000 (30%)]\t1.660703\n",
            "Train Epoch: 9 [19000/ 60000 (32%)]\t1.676817\n",
            "Train Epoch: 9 [20000/ 60000 (33%)]\t1.613384\n",
            "Train Epoch: 9 [21000/ 60000 (35%)]\t1.592581\n",
            "Train Epoch: 9 [22000/ 60000 (37%)]\t1.618994\n",
            "Train Epoch: 9 [23000/ 60000 (38%)]\t1.610201\n",
            "Train Epoch: 9 [24000/ 60000 (40%)]\t1.679376\n",
            "Train Epoch: 9 [25000/ 60000 (42%)]\t1.657135\n",
            "Train Epoch: 9 [26000/ 60000 (43%)]\t1.824202\n",
            "Train Epoch: 9 [27000/ 60000 (45%)]\t1.755942\n",
            "Train Epoch: 9 [28000/ 60000 (47%)]\t1.679462\n",
            "Train Epoch: 9 [29000/ 60000 (48%)]\t1.720638\n",
            "Train Epoch: 9 [30000/ 60000 (50%)]\t1.728396\n",
            "Train Epoch: 9 [31000/ 60000 (52%)]\t1.703017\n",
            "Train Epoch: 9 [32000/ 60000 (53%)]\t1.705478\n",
            "Train Epoch: 9 [33000/ 60000 (55%)]\t1.748154\n",
            "Train Epoch: 9 [34000/ 60000 (57%)]\t1.659605\n",
            "Train Epoch: 9 [35000/ 60000 (58%)]\t1.675230\n",
            "Train Epoch: 9 [36000/ 60000 (60%)]\t1.620511\n",
            "Train Epoch: 9 [37000/ 60000 (62%)]\t1.728279\n",
            "Train Epoch: 9 [38000/ 60000 (63%)]\t1.677464\n",
            "Train Epoch: 9 [39000/ 60000 (65%)]\t1.702649\n",
            "Train Epoch: 9 [40000/ 60000 (67%)]\t1.628182\n",
            "Train Epoch: 9 [41000/ 60000 (68%)]\t1.710399\n",
            "Train Epoch: 9 [42000/ 60000 (70%)]\t1.582141\n",
            "Train Epoch: 9 [43000/ 60000 (72%)]\t1.778922\n",
            "Train Epoch: 9 [44000/ 60000 (73%)]\t1.608398\n",
            "Train Epoch: 9 [45000/ 60000 (75%)]\t1.702151\n",
            "Train Epoch: 9 [46000/ 60000 (77%)]\t1.673219\n",
            "Train Epoch: 9 [47000/ 60000 (78%)]\t1.727547\n",
            "Train Epoch: 9 [48000/ 60000 (80%)]\t1.618694\n",
            "Train Epoch: 9 [49000/ 60000 (82%)]\t1.591801\n",
            "Train Epoch: 9 [50000/ 60000 (83%)]\t1.729802\n",
            "Train Epoch: 9 [51000/ 60000 (85%)]\t1.694898\n",
            "Train Epoch: 9 [52000/ 60000 (87%)]\t1.579178\n",
            "Train Epoch: 9 [53000/ 60000 (88%)]\t1.693977\n",
            "Train Epoch: 9 [54000/ 60000 (90%)]\t1.640880\n",
            "Train Epoch: 9 [55000/ 60000 (92%)]\t1.680845\n",
            "Train Epoch: 9 [56000/ 60000 (93%)]\t1.614509\n",
            "Train Epoch: 9 [57000/ 60000 (95%)]\t1.679910\n",
            "Train Epoch: 9 [58000/ 60000 (97%)]\t1.629984\n",
            "Train Epoch: 9 [59000/ 60000 (98%)]\t1.822318\n",
            "\n",
            "Test Set: Average loss: 0.0331, Accuracy 8057/10000 (81%)\n",
            "\n"
          ]
        }
      ]
    },
    {
      "cell_type": "markdown",
      "source": [
        "This function takes a list of indices and displays the corresponding images along with their predicted class names. The model is set to evaluation mode, and for each specified index, it retrieves the image, performs a prediction, and displays the result."
      ],
      "metadata": {
        "id": "nWcUqaTMbZgv"
      }
    },
    {
      "cell_type": "code",
      "execution_count": null,
      "metadata": {
        "colab": {
          "base_uri": "https://localhost:8080/",
          "height": 1000
        },
        "id": "41ML5aHPHv-q",
        "outputId": "45daa053-1e29-45f8-b616-a05ba010ff07"
      },
      "outputs": [
        {
          "output_type": "stream",
          "name": "stdout",
          "text": [
            "Prediction for index 33: Dress\n"
          ]
        },
        {
          "output_type": "display_data",
          "data": {
            "text/plain": [
              "<Figure size 640x480 with 1 Axes>"
            ],
            "image/png": "[encoded data removed]"
          },
          "metadata": {}
        },
        {
          "output_type": "stream",
          "name": "stdout",
          "text": [
            "Prediction for index 78: Bag\n"
          ]
        },
        {
          "output_type": "display_data",
          "data": {
            "text/plain": [
              "<Figure size 640x480 with 1 Axes>"
            ],
            "image/png": "[encoded data removed]"
          },
          "metadata": {}
        },
        {
          "output_type": "stream",
          "name": "stdout",
          "text": [
            "Prediction for index 66: Coat\n"
          ]
        },
        {
          "output_type": "display_data",
          "data": {
            "text/plain": [
              "<Figure size 640x480 with 1 Axes>"
            ],
            "image/png": "[encoded data removed]"
          },
          "metadata": {}
        }
      ],
      "source": [
        "\n",
        "class_names = [\n",
        "    'T-shirt/top', 'Trouser', 'Pullover', 'Dress', 'Coat',\n",
        "    'Sandal', 'Shirt', 'Sneaker', 'Bag', 'Ankle Boot'\n",
        "]\n",
        "\n",
        "# Function to predict and display specific images with their class names\n",
        "def predict_and_show_specific_images(model, dataset, device, indices):\n",
        "    model.eval()  # Set the model to evaluation mode\n",
        "\n",
        "    for idx in indices:\n",
        "        # Get the data and target for the specific index\n",
        "        data, target = dataset[idx]\n",
        "\n",
        "        # Prepare the data for the model: add batch dimension and move to the device\n",
        "        data = data.unsqueeze(0).to(device)\n",
        "\n",
        "        # Get the model's output\n",
        "        output = model(data)\n",
        "\n",
        "        # Get the predicted label\n",
        "        prediction = output.argmax(dim=1, keepdim=True).item()\n",
        "\n",
        "        # Convert the prediction to the corresponding class name\n",
        "        predicted_class_name = class_names[prediction]\n",
        "\n",
        "        print(f\"Prediction for index {idx}: {predicted_class_name}\")\n",
        "\n",
        "        # Convert the image data back to a format suitable for plotting\n",
        "        image = data.squeeze(0).cpu().numpy().reshape(28, 28)  # Reshape back to 28x28\n",
        "\n",
        "        # Display the image with the predicted class name\n",
        "        plt.imshow(image, cmap='gray')\n",
        "        plt.title(f\"Prediction: {predicted_class_name}\")\n",
        "        plt.axis('off')  # Hide axes for a cleaner look\n",
        "        plt.show()\n",
        "\n",
        "# Indices of the images you want to display\n",
        "indices = [33, 78, 66]\n",
        "\n",
        "# Call the function to display specific images with class names\n",
        "predict_and_show_specific_images(model, test_data, device, indices)"
      ]
    }
  ],
  "metadata": {
    "colab": {
      "provenance": []
    },
    "kernelspec": {
      "display_name": "Python 3",
      "name": "python3"
    },
    "language_info": {
      "name": "python"
    }
  },
  "nbformat": 4,
  "nbformat_minor": 0
}